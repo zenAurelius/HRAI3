{
  "nbformat": 4,
  "nbformat_minor": 0,
  "metadata": {
    "colab": {
      "provenance": [],
      "authorship_tag": "ABX9TyMip3G34NI0QUty2AL/Y2Xs",
      "include_colab_link": true
    },
    "kernelspec": {
      "name": "python3",
      "display_name": "Python 3"
    },
    "language_info": {
      "name": "python"
    }
  },
  "cells": [
    {
      "cell_type": "markdown",
      "metadata": {
        "id": "view-in-github",
        "colab_type": "text"
      },
      "source": [
        "<a href=\"https://colab.research.google.com/github/zenAurelius/HRAI3/blob/main/notebooks/test_recur1.ipynb\" target=\"_parent\"><img src=\"https://colab.research.google.com/assets/colab-badge.svg\" alt=\"Open In Colab\"/></a>"
      ]
    },
    {
      "cell_type": "code",
      "execution_count": null,
      "metadata": {
        "id": "L5xoN2-d47Yz"
      },
      "outputs": [],
      "source": [
        "import pandas as pd\n",
        "import numpy as np\n",
        "import tensorflow as tf\n",
        "\n",
        "from tensorflow.keras import layers\n",
        "\n",
        "from google.colab import drive\n",
        "drive.mount('/content/drive')\n",
        "%cd /content/drive/MyDrive/HRAI/data"
      ]
    },
    {
      "cell_type": "code",
      "source": [
        "df = pd.read_csv('pmu2017_os.zip')\n",
        "df"
      ],
      "metadata": {
        "id": "J1urUMxy_WfX"
      },
      "execution_count": null,
      "outputs": []
    },
    {
      "cell_type": "code",
      "source": [
        "df.columns.to_list()"
      ],
      "metadata": {
        "id": "2QQiv2LhH6AV"
      },
      "execution_count": null,
      "outputs": []
    },
    {
      "cell_type": "code",
      "source": [
        "#SELECTION DES FEATURES ET TARGET\n",
        "#df = df[['rfi_prix','rfi_distance','pfi_chNbPlaces_1','pff_rapportDirect_1','pff_ord_1','pfi_chNbPlaces_2','pff_rapportDirect_2','pff_ord_2','tgf_win_1']].copy()\n",
        "df = df[['aid_cr', 'pis_cheval_1','pff_ord_1','pff_ord_2', 'pis_cheval_2','pff_normcote_1','pff_rapportDirect_1','pff_rapportDirect_2','pff_foch_1','pff_normcote_2','pff_foch_2','tgf_pwin_1']].copy()\n",
        "df = df[(~df.pff_normcote_2.isna()) & (~df.pff_normcote_1.isna())].copy()\n",
        "df['rel_cote_1'] = df.pff_normcote_1 / (df.pff_normcote_1 + df.pff_normcote_2)\n",
        "df['rel_force_1'] = df.pff_foch_1 / (df.pff_foch_1 + df.pff_foch_2)\n",
        "#df = df.sort_values('aid_pt')\n",
        "df"
      ],
      "metadata": {
        "id": "FvoDWP7VDL_2"
      },
      "execution_count": null,
      "outputs": []
    },
    {
      "cell_type": "code",
      "source": [
        "limit_train = df['aid_cr'].iloc[int(0.8 * len(df))]\n",
        "limit_val = df['aid_cr'].iloc[int(0.9 * len(df))]\n",
        "print(limit_train, limit_val)\n",
        "train = df[df.aid_cr < limit_train].copy()\n",
        "val = df[(df.aid_cr >= limit_train) & (df.aid_cr < limit_val)].copy()\n",
        "test = df[df.aid_cr >= limit_val].copy()\n",
        "print(len(train), 'training examples')\n",
        "print(len(val), 'validation examples')\n",
        "print(len(test), 'test examples')"
      ],
      "metadata": {
        "id": "8DFVaqYa-8T6"
      },
      "execution_count": null,
      "outputs": []
    },
    {
      "cell_type": "code",
      "source": [
        "train"
      ],
      "metadata": {
        "id": "2XuxV2iLKEU8"
      },
      "execution_count": null,
      "outputs": []
    },
    {
      "cell_type": "code",
      "source": [
        "NUM_FEATURES = ['rel_cote_1', 'rel_force_1']\n",
        "STR_FEATURES = []\n",
        "TARGET = ['tgf_pwin_1']\n",
        "FEATURES = NUM_FEATURES\n",
        "ALL_COLS = FEATURES + TARGET"
      ],
      "metadata": {
        "id": "oYpITcMMRoDs"
      },
      "execution_count": null,
      "outputs": []
    },
    {
      "cell_type": "code",
      "source": [
        "def df_to_dataset(dataframe, shuffle=True, batch_size=32):\n",
        "  #df = dataframe[['pff_rapportDirect_1','pff_foch_1','pff_rapportDirect_2','pff_foch_2','tgf_pwin_1']].copy()\n",
        "  df = dataframe[ALL_COLS].copy()\n",
        "  labels = df.pop(TARGET[0])\n",
        "  df = {key: np.array(value)[:,tf.newaxis] for key, value in df.items()}\n",
        "  ds = tf.data.Dataset.from_tensor_slices((dict(df), labels))\n",
        "  if shuffle:\n",
        "    ds = ds.shuffle(buffer_size=len(df))\n",
        "  ds = ds.batch(batch_size)\n",
        "  ds = ds.prefetch(batch_size)\n",
        "  return ds"
      ],
      "metadata": {
        "id": "EGN-5w56EY-I"
      },
      "execution_count": null,
      "outputs": []
    },
    {
      "cell_type": "code",
      "source": [
        "def get_normalization_layer(name, dataset):\n",
        "  # Create a Normalization layer for the feature.\n",
        "  normalizer = layers.Normalization(axis=None)\n",
        "\n",
        "  # Prepare a Dataset that only yields the feature.\n",
        "  feature_ds = dataset.map(lambda x, y: x[name])\n",
        "\n",
        "  # Learn the statistics of the data.\n",
        "  normalizer.adapt(feature_ds)\n",
        "\n",
        "  return normalizer"
      ],
      "metadata": {
        "id": "HiCX521MGcad"
      },
      "execution_count": null,
      "outputs": []
    },
    {
      "cell_type": "code",
      "source": [
        "batch_size = 256\n",
        "train_ds = df_to_dataset(train, shuffle=False, batch_size=batch_size)\n",
        "val_ds = df_to_dataset(val, shuffle=False, batch_size=batch_size)\n",
        "test_ds = df_to_dataset(test, shuffle=False, batch_size=batch_size)\n"
      ],
      "metadata": {
        "id": "E6dvUbuzHs82"
      },
      "execution_count": null,
      "outputs": []
    },
    {
      "cell_type": "code",
      "source": [
        "all_inputs = []\n",
        "encoded_features = []\n",
        "\n",
        "# Numerical features.\n",
        "#for header in ['rfi_prix', 'rfi_distance', 'pfi_chNbPlaces_1', 'pff_rapportDirect_1', 'pff_ord_1', 'pfi_chNbPlaces_2', 'pff_rapportDirect_2', 'pff_ord_2']:\n",
        "for header in NUM_FEATURES:\n",
        "  numeric_col = tf.keras.Input(shape=(1,), name=header)\n",
        "  normalization_layer = get_normalization_layer(header, train_ds)\n",
        "  encoded_numeric_col = normalization_layer(numeric_col)\n",
        "  all_inputs.append(numeric_col)\n",
        "  encoded_features.append(encoded_numeric_col)"
      ],
      "metadata": {
        "id": "TK-D-jL6HMBV"
      },
      "execution_count": null,
      "outputs": []
    },
    {
      "cell_type": "code",
      "source": [
        "all_features = tf.keras.layers.concatenate(encoded_features)\n",
        "x = tf.keras.layers.Dense(32, activation=\"relu\")(all_features)\n",
        "x = layers.Dense(64, activation='relu')(x)\n",
        "output = tf.keras.layers.Dense(1)(x)\n",
        "\n",
        "model = tf.keras.Model(all_inputs, output)\n",
        "model.compile(loss='mse', optimizer=tf.keras.optimizers.Adam(0.001))\n"
      ],
      "metadata": {
        "id": "JkdcoW_vLow1"
      },
      "execution_count": null,
      "outputs": []
    },
    {
      "cell_type": "code",
      "source": [
        "# Use `rankdir='LR'` to make the graph horizontal.\n",
        "tf.keras.utils.plot_model(model, show_shapes=True, rankdir=\"LR\")\n"
      ],
      "metadata": {
        "id": "GVyqNNABLyot"
      },
      "execution_count": null,
      "outputs": []
    },
    {
      "cell_type": "code",
      "source": [
        "model.fit(train_ds, epochs=5, validation_data=val_ds)\n"
      ],
      "metadata": {
        "id": "pblhIixEMKbV"
      },
      "execution_count": null,
      "outputs": []
    },
    {
      "cell_type": "code",
      "source": [
        "def predict(model, ds, df, pcol):\n",
        "  predictions = model.predict(ds)\n",
        "\n",
        "  df[pcol] = predictions\n",
        "\n",
        "  threshold = 0.5\n",
        "  df[f'{pcol}_w'] = (predictions > threshold).astype(int)\n",
        "\n",
        "  # Le reste pourrait être ailleurs\n",
        "def prepare_comparaison(df):\n",
        "  df['win1'] = (df.tgf_pwin_1 > 0.5).astype(int)\n",
        "  df['win_cote'] = (df['pff_rapportDirect_2'] > df['pff_rapportDirect_1']).astype(int)\n",
        "  df['win_force'] = (df['pff_foch_1'] > df['pff_foch_2']).astype(int)\n",
        "  df['win_ord'] = (df['pff_ord_1'] > df['pff_ord_2']).astype(int)"
      ],
      "metadata": {
        "id": "oclHb5ugvOzD"
      },
      "execution_count": null,
      "outputs": []
    },
    {
      "cell_type": "code",
      "source": [
        "predict(model, train_ds, train, 'pred4')\n",
        "prepare_comparaison(train)\n",
        "train"
      ],
      "metadata": {
        "id": "0eyXGlvYEw23"
      },
      "execution_count": null,
      "outputs": []
    },
    {
      "cell_type": "code",
      "source": [
        "prepare_comparaison(train)\n",
        "eval(train, 'pred0')\n",
        "eval(train, 'pred1')\n",
        "eval(train, 'pred2')\n",
        "eval(train, 'pred3')\n",
        "eval(train, 'pred4')"
      ],
      "metadata": {
        "id": "RMy8zjXZK8Vm"
      },
      "execution_count": null,
      "outputs": []
    },
    {
      "cell_type": "code",
      "source": [
        "predict(model, test_ds, test, 'pred')\n",
        "prepare_comparaison(test)\n",
        "test"
      ],
      "metadata": {
        "id": "6FrxAjH-LNa9"
      },
      "execution_count": null,
      "outputs": []
    },
    {
      "cell_type": "code",
      "source": [
        "def calc_force_bycr(df, forces, byc, pcol):\n",
        "  # La force de la prochaine course, calculée à partir de l'erreur de prédiction\n",
        "  df[f'D_ELO_{byc}'] = 100 * (df.tgf_pwin_1 - df[pcol])\n",
        "  df[f'NEXT_ELO_{byc}'] = df['pff_foch_1'] + df[f'D_ELO_{byc}']\n",
        "  # La force calculée à partir de la précédente course => le prochain 'fit' sera fait avec cette valeur\n",
        "  df[f'ELO_{byc}_1'] = df[f'{byc}_1'].astype(str).map(forces).fillna(df.pff_foch_1)\n",
        "  df[f'ELO_{byc}_2'] = df[f'{byc}_2'].astype(str).map(forces).fillna(df.pff_foch_2)\n",
        "  forces.update(df.groupby([f'{byc}_1'])[f'NEXT_ELO_{byc}'].agg(\"mean\").astype(int).to_dict())\n",
        "  return df.reset_index(drop=True)\n",
        "\n",
        "def calc_oskill(df, forces, pcol):\n",
        "  bycr = df.groupby('aid_cr')\n",
        "  r = bycr.apply(lambda x: calc_force_bycr(x, forces, 'pis_cheval', pcol))\n",
        "  return r.reset_index(drop=True)"
      ],
      "metadata": {
        "id": "xJ0tjTZq1FAo"
      },
      "execution_count": null,
      "outputs": []
    },
    {
      "cell_type": "code",
      "source": [
        "forces = {}\n",
        "train = calc_oskill(train, forces, 'pred4')\n",
        "train"
      ],
      "metadata": {
        "id": "9FXjoRy-Aqbg"
      },
      "execution_count": null,
      "outputs": []
    },
    {
      "cell_type": "code",
      "source": [
        "train[['pff_foch_1','pff_foch_2','rel_force_1', 'pff_normcote_1','pff_normcote_2','rel_cote_1','win1','pred0','pred1','pred2','pred3','pred4','pred5','pred6','pred7','pred8','pred9','tgf_pwin_1']]"
      ],
      "metadata": {
        "id": "XdyPsOooRCDn"
      },
      "execution_count": null,
      "outputs": []
    },
    {
      "cell_type": "code",
      "source": [
        "train.pff_foch_1 = train.ELO_pis_cheval_1\n",
        "train.pff_foch_2 = train.ELO_pis_cheval_2\n",
        "train['rel_force_1'] = train.pff_foch_1 / (train.pff_foch_1 + train.pff_foch_2)"
      ],
      "metadata": {
        "id": "07wRnZ5Yrdvl"
      },
      "execution_count": null,
      "outputs": []
    },
    {
      "cell_type": "code",
      "source": [
        "def runIteration(num):\n",
        "  global train\n",
        "  print(num)\n",
        "  ds = df_to_dataset(train, shuffle=False, batch_size=batch_size)\n",
        "\n",
        "  all_inputs = []\n",
        "  encoded_features = []\n",
        "\n",
        "  # Numerical features.\n",
        "  #for header in ['rfi_prix', 'rfi_distance', 'pfi_chNbPlaces_1', 'pff_rapportDirect_1', 'pff_ord_1', 'pfi_chNbPlaces_2', 'pff_rapportDirect_2', 'pff_ord_2']:\n",
        "  for header in NUM_FEATURES:\n",
        "    numeric_col = tf.keras.Input(shape=(1,), name=header)\n",
        "    normalization_layer = get_normalization_layer(header, ds)\n",
        "    encoded_numeric_col = normalization_layer(numeric_col)\n",
        "    all_inputs.append(numeric_col)\n",
        "    encoded_features.append(encoded_numeric_col)\n",
        "\n",
        "  all_features = tf.keras.layers.concatenate(encoded_features)\n",
        "  x = tf.keras.layers.Dense(32, activation=\"relu\")(all_features)\n",
        "  x = layers.Dense(64, activation='relu')(x)\n",
        "  output = tf.keras.layers.Dense(1)(x)\n",
        "\n",
        "  model = tf.keras.Model(all_inputs, output)\n",
        "  model.compile(loss='mse', optimizer=tf.keras.optimizers.Adam(0.001))\n",
        "\n",
        "  model.fit(ds, epochs=5, validation_data=val_ds)\n",
        "  predict(model, ds, train, f'pred{num}')\n",
        "  forces = {}\n",
        "  train = calc_oskill(train, forces, f'pred{num}')\n",
        "  train.pff_foch_1 = train.ELO_pis_cheval_1\n",
        "  train.pff_foch_2 = train.ELO_pis_cheval_2\n",
        "  train['rel_force_1'] = train.pff_foch_1 / (train.pff_foch_1 + train.pff_foch_2)"
      ],
      "metadata": {
        "id": "TMJNtEbpcxxZ"
      },
      "execution_count": null,
      "outputs": []
    },
    {
      "cell_type": "code",
      "source": [
        "for x in range(10):\n",
        "  runIteration(x)"
      ],
      "metadata": {
        "id": "5pLoAqzVfKLS"
      },
      "execution_count": null,
      "outputs": []
    },
    {
      "cell_type": "code",
      "source": [
        "model.save('classifier_test.keras')\n",
        "reloaded_model = tf.keras.models.load_model('classifier_test.keras')"
      ],
      "metadata": {
        "id": "1fr54u3MuOVq"
      },
      "execution_count": null,
      "outputs": []
    },
    {
      "cell_type": "code",
      "source": [
        "predictions = reloaded_model.predict(test_ds)\n",
        "predictions"
      ],
      "metadata": {
        "id": "Woj0zG9OvCDK"
      },
      "execution_count": null,
      "outputs": []
    },
    {
      "cell_type": "code",
      "source": [
        "train_ds"
      ],
      "metadata": {
        "id": "jc0yEHqMErOW"
      },
      "execution_count": null,
      "outputs": []
    },
    {
      "cell_type": "code",
      "source": [
        "def eval(df, pcol):\n",
        "  print('positifs')\n",
        "  print(len(df[(df[f'{pcol}_w'] == 1) & (df.win1 == 1)]) / len(df[(df.win1 == 1)]))\n",
        "  print(len(df[(df.win_cote == 1) & (df.win1 == 1)]) / len(df[(df.win1 == 1)]))\n",
        "  print(len(df[(df.win_ord == 1) & (df.win1 == 1)]) / len(df[(df.win1 == 1)]))\n",
        "  print('negatifs')\n",
        "  print(len(df[(df[f'{pcol}_w'] == 0) & (df.win1 == 0)]) / len(df[(df.win1 == 0)]))\n",
        "  print(len(df[(df.win_cote == 0) & (df.win1 == 0)]) / len(df[(df.win1 == 0)]))\n",
        "  print(len(df[(df.win_ord == 0) & (df.win1 == 0)]) / len(df[(df.win1 == 0)]))"
      ],
      "metadata": {
        "id": "0xcyWh37zfuJ"
      },
      "execution_count": null,
      "outputs": []
    },
    {
      "cell_type": "code",
      "source": [
        "eval(test, 'pred')"
      ],
      "metadata": {
        "id": "WP22Lcrs1ras"
      },
      "execution_count": null,
      "outputs": []
    },
    {
      "cell_type": "code",
      "source": [
        "test.pff_foch_1 = test.ELO_pis_cheval_1"
      ],
      "metadata": {
        "id": "bRz2i28oBOiA"
      },
      "execution_count": null,
      "outputs": []
    },
    {
      "cell_type": "code",
      "source": [
        "train['pred'] = reloaded_model.predict(train_ds)"
      ],
      "metadata": {
        "id": "JxpdrAsAv7fh"
      },
      "execution_count": null,
      "outputs": []
    },
    {
      "cell_type": "code",
      "source": [
        "train = calc_oskill(train, {})\n",
        "train"
      ],
      "metadata": {
        "id": "EKyPzY8U2plX"
      },
      "execution_count": null,
      "outputs": []
    },
    {
      "cell_type": "code",
      "source": [
        "train[train.pis_cheval_1 == 'DREAMMOKO'].head(20)"
      ],
      "metadata": {
        "id": "g5VyTUk75Ye6"
      },
      "execution_count": null,
      "outputs": []
    },
    {
      "cell_type": "code",
      "source": [
        "train.pff_foch_1 = train.ELO_pis_cheval_1"
      ],
      "metadata": {
        "id": "YicQkxZE6CVK"
      },
      "execution_count": null,
      "outputs": []
    },
    {
      "cell_type": "markdown",
      "source": [
        "TEST DE REGRESSION LINEAIRE"
      ],
      "metadata": {
        "id": "BlDC9hcJNtjY"
      }
    },
    {
      "cell_type": "code",
      "source": [
        "\n",
        "# Define the input layer for 'rel_cote_1'\n",
        "rel_cote_1_input = tf.keras.Input(shape=(1,), name='rel_cote_1')\n",
        "\n",
        "# Define the linear regression layer\n",
        "output = tf.keras.layers.Dense(1, name='tgf_pwin_1')(rel_cote_1_input)\n",
        "\n",
        "# Create the model\n",
        "model = tf.keras.Model(inputs=rel_cote_1_input, outputs=output)\n",
        "\n",
        "# Compile the model\n",
        "model.compile(optimizer='adam', loss='mse') # Use mean squared error for regression\n",
        "\n",
        "# Prepare the data\n",
        "X_train = np.array(train['rel_cote_1']).reshape(-1, 1)\n",
        "y_train = np.array(train['tgf_pwin_1']).reshape(-1, 1)\n",
        "\n",
        "X_test = np.array(test['rel_cote_1']).reshape(-1, 1)\n",
        "y_test = np.array(test['tgf_pwin_1']).reshape(-1, 1)\n",
        "\n",
        "# Train the model\n",
        "model.fit(X_train, y_train, epochs=2, batch_size=256, validation_split=0.2) # Adjust epochs and batch size as needed\n",
        "\n",
        "# Evaluate the model\n",
        "loss = model.evaluate(X_test, y_test)\n",
        "print(f\"Test Loss: {loss}\")\n",
        "\n",
        "# Make predictions\n",
        "predictions = model.predict(X_test)\n"
      ],
      "metadata": {
        "id": "SMMjKW8FNJQA"
      },
      "execution_count": null,
      "outputs": []
    },
    {
      "cell_type": "code",
      "source": [
        "test['predr'] = predictions\n",
        "prepare_comparaison(test)\n",
        "test['predr_w'] = (predictions > 0.5).astype(int)\n",
        "test"
      ],
      "metadata": {
        "id": "u3Ug5pdHPo1D"
      },
      "execution_count": null,
      "outputs": []
    },
    {
      "cell_type": "code",
      "source": [
        "eval(test, 'predr')"
      ],
      "metadata": {
        "id": "ndJOw9EnQusL"
      },
      "execution_count": null,
      "outputs": []
    }
  ]
}